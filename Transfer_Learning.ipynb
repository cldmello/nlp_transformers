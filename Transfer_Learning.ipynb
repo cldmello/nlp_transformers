{
 "cells": [
  {
   "cell_type": "markdown",
   "id": "c54a3956-2dfc-49ea-b874-99a516ac3332",
   "metadata": {},
   "source": [
    "## 3.2 Introduction to PyTorch"
   ]
  },
  {
   "cell_type": "code",
   "execution_count": 1,
   "id": "a5b7df89-d8d5-45f3-87a8-91f127cd7cf5",
   "metadata": {},
   "outputs": [],
   "source": [
    "import torch"
   ]
  },
  {
   "cell_type": "code",
   "execution_count": 2,
   "id": "a3c556ff-5ef5-48e2-b0ad-1d961c406896",
   "metadata": {},
   "outputs": [
    {
     "name": "stdout",
     "output_type": "stream",
     "text": [
      "Shape of tensor([0]) is torch.Size([1]) and dimension is 1\n"
     ]
    }
   ],
   "source": [
    "# 1-dimensional tensor\n",
    "one_d_tensor = torch.LongTensor([0])\n",
    "print(f'Shape of {one_d_tensor} is {one_d_tensor.shape} and dimension is {one_d_tensor.dim()}')"
   ]
  },
  {
   "cell_type": "code",
   "execution_count": 3,
   "id": "7ccd0313-374e-4cd0-b854-4af4ce090733",
   "metadata": {},
   "outputs": [
    {
     "name": "stdout",
     "output_type": "stream",
     "text": [
      "Shape of tensor([0, 1, 2]) is torch.Size([3]) and dimension is 1\n"
     ]
    }
   ],
   "source": [
    "# another 1-dimensional tensor\n",
    "another_1d_tensor = torch.LongTensor([0, 1, 2])\n",
    "print(f'Shape of {another_1d_tensor} is {another_1d_tensor.shape} and dimension is {another_1d_tensor.dim()}')"
   ]
  },
  {
   "cell_type": "code",
   "execution_count": 5,
   "id": "bb0f6b65-930a-4de9-8cf4-376abb566b6a",
   "metadata": {},
   "outputs": [
    {
     "name": "stdout",
     "output_type": "stream",
     "text": [
      "Shape of tensor([[1, 2, 3],\n",
      "        [4, 5, 6],\n",
      "        [7, 8, 9]]) is torch.Size([3, 3]) and dimension is 2\n"
     ]
    }
   ],
   "source": [
    "# 2-dimensional tensor\n",
    "two_d_tensor = torch.LongTensor([[1, 2, 3], [4, 5, 6], [7, 8, 9]])\n",
    "print(f'Shape of {two_d_tensor} is {two_d_tensor.shape} and dimension is {two_d_tensor.dim()}')"
   ]
  },
  {
   "cell_type": "code",
   "execution_count": 7,
   "id": "d3c272ae-80a3-41c5-b143-4d173729b736",
   "metadata": {},
   "outputs": [
    {
     "name": "stdout",
     "output_type": "stream",
     "text": [
      "Shape of tensor([0, 1, 2]) is torch.Size([3]) and dimension is 1\n",
      "Shape of tensor([[0, 1, 2]]) is torch.Size([1, 3]) and dimension is 2\n"
     ]
    }
   ],
   "source": [
    "one_d_tensor = torch.LongTensor([0, 1, 2])\n",
    "print(f'Shape of {one_d_tensor} is {one_d_tensor.shape} and dimension is {one_d_tensor.dim()}')\n",
    "\n",
    "# convert 1-d tensor to 2-d tensor by forcing a dimension in front\n",
    "# this is useful when we want to force a batch dimension if we want to predict a single example\n",
    "two_d_tensor = one_d_tensor.unsqueeze(0)\n",
    "print(f'Shape of {two_d_tensor} is {two_d_tensor.shape} and dimension is {two_d_tensor.dim()}')"
   ]
  },
  {
   "cell_type": "code",
   "execution_count": 8,
   "id": "5dc8c855-124a-49bc-aefb-47f007b9bb52",
   "metadata": {},
   "outputs": [
    {
     "data": {
      "text/plain": [
       "array([[0, 1, 2]], dtype=int64)"
      ]
     },
     "execution_count": 8,
     "metadata": {},
     "output_type": "execute_result"
    }
   ],
   "source": [
    "# convert from pytorch to numpy\n",
    "two_d_tensor.numpy()"
   ]
  },
  {
   "cell_type": "code",
   "execution_count": 9,
   "id": "c91f549a-92a8-4bc1-ac9f-eb9aa3e699c5",
   "metadata": {},
   "outputs": [
    {
     "data": {
      "text/plain": [
       "array([[0, 1, 2]], dtype=int64)"
      ]
     },
     "execution_count": 9,
     "metadata": {},
     "output_type": "execute_result"
    }
   ],
   "source": [
    "# convert from pytorch to numpy with detach which removes a tensor from a computation graph\n",
    "two_d_tensor.detach().numpy()"
   ]
  },
  {
   "cell_type": "code",
   "execution_count": null,
   "id": "cf8c52ea-24d7-4a5d-a8d9-edee04a4a918",
   "metadata": {},
   "outputs": [],
   "source": []
  }
 ],
 "metadata": {
  "kernelspec": {
   "display_name": "Python 3 (ipykernel)",
   "language": "python",
   "name": "python3"
  },
  "language_info": {
   "codemirror_mode": {
    "name": "ipython",
    "version": 3
   },
   "file_extension": ".py",
   "mimetype": "text/x-python",
   "name": "python",
   "nbconvert_exporter": "python",
   "pygments_lexer": "ipython3",
   "version": "3.10.13"
  }
 },
 "nbformat": 4,
 "nbformat_minor": 5
}
